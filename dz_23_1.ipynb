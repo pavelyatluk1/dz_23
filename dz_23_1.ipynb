{
 "cells": [
  {
   "cell_type": "markdown",
   "id": "7b38a511",
   "metadata": {},
   "source": [
    "#### Pavlo Yatluk\n",
    "dz_23_1\n"
   ]
  },
  {
   "cell_type": "markdown",
   "id": "d3e61883",
   "metadata": {},
   "source": [
    "### ЗАВДАННЯ 1.\n",
    "Прилад містить 7 елементів, з яких 3 зношені. При включенні приладу випадковим чином включаються 3 елементи.\n",
    "Знайти ймовірність того, що при цьому виявляться включенеми два незношені елементи."
   ]
  },
  {
   "cell_type": "markdown",
   "id": "d94b3843",
   "metadata": {},
   "source": [
    "### Вирішення"
   ]
  },
  {
   "cell_type": "markdown",
   "id": "4756112e",
   "metadata": {},
   "source": [
    "Подія А - серед трьох випадковім чином включених елементів приладу - 2 незношені и один зношений.\n",
    "\n",
    "Вірогідність події А обчислюємо за формулою:\n",
    "\n",
    "P(A) = m / n,\n",
    "\n",
    "де n - загальна кількість способів включення 3-х елементів приладу із 7, тобто\n",
    "\n",
    "n = 7! / (3! * (7 - 3)!) = (5 * 6 * 7) / 1 * 2 * 3 = 210 / 6 = 35\n",
    "\n",
    "m - кількість способів сприятливих події А як добуток кількості варіантів включення 2-х незношених єлементів із 4-х,\n",
    "    та кількості варіантів включення 1-го зношеного з 3-х, тобто\n",
    "    \n",
    "m = (4! / (2! * (4 - 2)!)) * (3! * (1! * (3 - 1)!)) = ((3 * 4)/2) * 3 = 18\n",
    "\n",
    "P(A) = 18 / 35 = 0,5143 або 51,43%\n",
    "\n",
    "##### Відповідь: ймовірність того, що при включенні приладу виявляться включенеми два незношені елементи дорівнює 51,43%\n",
    "\n"
   ]
  },
  {
   "cell_type": "code",
   "execution_count": 14,
   "id": "898d8c1a",
   "metadata": {},
   "outputs": [
    {
     "name": "stdout",
     "output_type": "stream",
     "text": [
      "Ймовірність включення двох незношених елементів - 0.5142857142857142\n"
     ]
    }
   ],
   "source": [
    "from math import *\n",
    "def two_elem():\n",
    "    return ((factorial(nzn) / (factorial(item) * factorial(nzn - item))) * (factorial(zn) / (factorial(zn1) * factorial(zn - zn1)))) / (factorial(all_) / (factorial(turn_on) * factorial(all_ - turn_on)))  \n",
    "    \n",
    "    \n",
    "zn = 3\n",
    "nzn = 4\n",
    "all_ = 7\n",
    "turn_on = 3\n",
    "item = 2\n",
    "zn1 = 1                                                                       \n",
    "                                                                        \n",
    "print(f\"Ймовірність включення двох незношених елементів - {two_elem()}\")\n"
   ]
  }
 ],
 "metadata": {
  "kernelspec": {
   "display_name": "Python 3 (ipykernel)",
   "language": "python",
   "name": "python3"
  },
  "language_info": {
   "codemirror_mode": {
    "name": "ipython",
    "version": 3
   },
   "file_extension": ".py",
   "mimetype": "text/x-python",
   "name": "python",
   "nbconvert_exporter": "python",
   "pygments_lexer": "ipython3",
   "version": "3.10.8"
  }
 },
 "nbformat": 4,
 "nbformat_minor": 5
}
